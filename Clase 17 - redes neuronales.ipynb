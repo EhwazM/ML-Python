{
 "cells": [
  {
   "cell_type": "code",
   "execution_count": 1,
   "id": "70905240-08f1-47f1-a907-4bdb794ebe97",
   "metadata": {},
   "outputs": [],
   "source": [
    "import numpy as np\n",
    "import pandas as pd\n",
    "import matplotlib.pyplot as plt\n",
    "import seaborn as sns\n",
    "from sklearn.metrics import r2_score, mean_squared_error, classification_report, confusion_matrix, ConfusionMatrixDisplay"
   ]
  },
  {
   "cell_type": "code",
   "execution_count": 37,
   "id": "8870427b-f98c-4a92-9d10-da6cd3263a30",
   "metadata": {},
   "outputs": [],
   "source": [
    "class Perceptron:\n",
    "    def __init__(self, inputs_n, activation_funct):\n",
    "        self.inputs_n = inputs_n\n",
    "        self.activation_funct = activation_funct\n",
    "        self.weight = np.random.rand(inputs_n)\n",
    "        self.intercept = np.random.rand()\n",
    "\n",
    "    def activation(self, x):\n",
    "        if self.activation_funct == 'step':\n",
    "            return  1 if x>= 0 else 0\n",
    "\n",
    "        elif self.activation_funct == 'sigmoid':\n",
    "            return 1/(np.exp(-x) + 1)\n",
    "\n",
    "        elif self.activation_funct == 'relu':\n",
    "            return max(0, x)\n",
    "\n",
    "        else:\n",
    "            'put something on bruh.'\n",
    "\n",
    "    def forward(self, inpt):\n",
    "        weight_sum = np.dot(inpt, self.weight) + self.intercept\n",
    "        outpt = self.activation(weight_sum)\n",
    "        return outpt\n",
    "\n",
    "class PerceptronBackward:\n",
    "    def __init__(self, input_size, eta0 = 1e-2, epochs = 100, activation_funct = 'step'):\n",
    "        self.input_size = input_size\n",
    "        self.eta0 = eta0\n",
    "        self.epochs = epochs\n",
    "        self.activation_funct = activation_funct\n",
    "        self.weight = np.zeros(input_size + 1)\n",
    "\n",
    "    def activation(self, x):\n",
    "        if self.activation_funct == 'step':\n",
    "            return  1 if x>= 0 else 0\n",
    "\n",
    "        elif self.activation_funct == 'sigmoid':\n",
    "            return 1/(np.exp(-x) + 1)\n",
    "\n",
    "        elif self.activation_funct == 'relu':\n",
    "            return max(0, x)\n",
    "\n",
    "        else:\n",
    "            'put something on bruh.'\n",
    "\n",
    "    def fit(self, x, y):\n",
    "        m, n = x.shape\n",
    "        x_b  = np.c_[x, np.ones(m)]\n",
    "        for epoch in range(self.epochs):\n",
    "            for xi, target in zip(x_b, y):\n",
    "                prediction = self.activation(np.dot(xi, self.weight))\n",
    "                update = self.eta0*(target-prediction)\n",
    "                self.weight += update * xi\n",
    "\n",
    "    def predict(self, x):\n",
    "        m, n = x.shape\n",
    "        x_b = np.c_[x, np.ones(m)]\n",
    "        weight_sum = np.dot(x_b, self.weight)\n",
    "        return np.array([self.activation(x) for x in weight_sum])\n",
    "\n",
    "    def evaluate(self, x, y):\n",
    "        prediction = self.predict(x)\n",
    "        return np.mean(prediction == y)\n",
    "        "
   ]
  },
  {
   "cell_type": "code",
   "execution_count": null,
   "id": "e5d13526-987d-46a8-899d-9411d73f86fa",
   "metadata": {},
   "outputs": [],
   "source": [
    "inputs_n = 2\n",
    "activation_funct = 'sigmoid'\n",
    "perceptron = Perceptron(inputs_n, activation_funct)"
   ]
  },
  {
   "cell_type": "code",
   "execution_count": null,
   "id": "3963df44-ec8e-4250-80d9-2bd32a049711",
   "metadata": {},
   "outputs": [],
   "source": [
    "inpt = np.array([0.1, 0.2])\n",
    "outpt = perceptron.forward(inpt)"
   ]
  },
  {
   "cell_type": "code",
   "execution_count": null,
   "id": "c228c91a-8913-4c34-8d8c-505d4ed9549b",
   "metadata": {},
   "outputs": [],
   "source": [
    "outpt"
   ]
  },
  {
   "cell_type": "code",
   "execution_count": 48,
   "id": "d92ae1fa-1b90-4ae8-867e-c1aa8f3c00b6",
   "metadata": {},
   "outputs": [
    {
     "data": {
      "text/plain": [
       "array([[0, 1, 3, 2, 3],\n",
       "       [1, 2, 5, 2, 5]])"
      ]
     },
     "execution_count": 48,
     "metadata": {},
     "output_type": "execute_result"
    }
   ],
   "source": [
    "x = np.array([[0, 1, 3, 2, 3], [1, 2, 5, 2, 5]])\n",
    "m, n = x.shape\n",
    "# np.c_[x, np.ones(m)]\n",
    "x"
   ]
  },
  {
   "cell_type": "code",
   "execution_count": 7,
   "id": "06e242bd-da77-47f5-b31a-a9b0b6c8e05b",
   "metadata": {},
   "outputs": [
    {
     "data": {
      "text/plain": [
       "array([[0, 1, 3, 2, 3],\n",
       "       [1, 2, 5, 2, 5]])"
      ]
     },
     "execution_count": 7,
     "metadata": {},
     "output_type": "execute_result"
    }
   ],
   "source": [
    "x = np.array([[0, 1, 3, 2, 3], [1, 2, 5, 2, 5]])\n",
    "m, n = x.shape\n",
    "np.c_[x, np.ones(m)]\n",
    "x"
   ]
  },
  {
   "cell_type": "code",
   "execution_count": 8,
   "id": "15c0daa9-67c2-4f9e-bda9-ce9dae96c8bc",
   "metadata": {},
   "outputs": [],
   "source": [
    "x = np.array([[0, 0],\n",
    "              [0, 1],\n",
    "              [1, 0],\n",
    "              [1, 1]])\n",
    "\n",
    "y = np.array([0, 0, 0, 1])"
   ]
  },
  {
   "cell_type": "code",
   "execution_count": 9,
   "id": "c75fc4d5-04d3-4f62-80e3-87ecb859118a",
   "metadata": {},
   "outputs": [
    {
     "name": "stdout",
     "output_type": "stream",
     "text": [
      "La precisión del modelo es 1.0\n",
      "La predicciones son [0 0 0 1]\n"
     ]
    }
   ],
   "source": [
    "per_back = PerceptronBackward(input_size = 2, eta0 = 0.1, epochs = 10)\n",
    "per_back.fit(x, y)\n",
    "print(f'La precisión del modelo es {per_back.evaluate(x, y)}')\n",
    "print(f'La predicciones son {per_back.predict(x)}')"
   ]
  },
  {
   "cell_type": "code",
   "execution_count": 47,
   "id": "89369701-11b5-4c4f-ae53-56a68d69d2b5",
   "metadata": {},
   "outputs": [],
   "source": [
    "from sklearn.datasets import make_blobs\n",
    "from sklearn.model_selection import train_test_split"
   ]
  },
  {
   "cell_type": "code",
   "execution_count": 86,
   "id": "ca502c9d-88df-4eeb-b4bc-8636f5243618",
   "metadata": {},
   "outputs": [
    {
     "data": {
      "image/png": "[encoded data removed]",
      "text/plain": [
       "<Figure size 640x480 with 1 Axes>"
      ]
     },
     "metadata": {},
     "output_type": "display_data"
    }
   ],
   "source": [
    "x, y = make_blobs(n_samples=100, centers=2, n_features=2, random_state=20, cluster_std=0)\n",
    "\n",
    "x_train, x_test, y_train, y_test = train_test_split(x, y, test_size= 0.2)\n",
    "\n",
    "plt.scatter(x[:, 0], x[:, 1], c=y, s=100, cmap='coolwarm', edgecolors='k', zorder=3)\n",
    "plt.xlabel('Característica 1')\n",
    "plt.ylabel('Característica 2')\n",
    "plt.grid(zorder=1)\n",
    "plt.show()"
   ]
  },
  {
   "cell_type": "code",
   "execution_count": 87,
   "id": "c32f1ceb-826e-437e-b759-8ff6560a1458",
   "metadata": {},
   "outputs": [
    {
     "data": {
      "text/plain": [
       "np.float64(1.0)"
      ]
     },
     "execution_count": 87,
     "metadata": {},
     "output_type": "execute_result"
    }
   ],
   "source": [
    "perceptron = PerceptronBackward(input_size=2, epochs=20)\n",
    "perceptron.fit(x_train,y_train)\n",
    "perceptron.evaluate(x_train, y_train)"
   ]
  },
  {
   "cell_type": "code",
   "execution_count": 88,
   "id": "84ffe341-f551-46ed-9c5d-510fac6d9afd",
   "metadata": {},
   "outputs": [
    {
     "data": {
      "text/plain": [
       "array([0, 0, 0, 1, 1, 1, 0, 0, 1, 1, 0, 0, 0, 1, 1, 1, 0, 0, 0, 0])"
      ]
     },
     "execution_count": 88,
     "metadata": {},
     "output_type": "execute_result"
    }
   ],
   "source": [
    "y_pred = perceptron.predict(x_test)\n",
    "y_pred"
   ]
  },
  {
   "cell_type": "code",
   "execution_count": 89,
   "id": "d8748bf6-6595-4734-8063-621479d40f00",
   "metadata": {},
   "outputs": [
    {
     "name": "stdout",
     "output_type": "stream",
     "text": [
      "              precision    recall  f1-score   support\n",
      "\n",
      "           0       1.00      1.00      1.00        12\n",
      "           1       1.00      1.00      1.00         8\n",
      "\n",
      "    accuracy                           1.00        20\n",
      "   macro avg       1.00      1.00      1.00        20\n",
      "weighted avg       1.00      1.00      1.00        20\n",
      "\n"
     ]
    }
   ],
   "source": [
    "print(classification_report(y_test, y_pred))"
   ]
  },
  {
   "cell_type": "code",
   "execution_count": null,
   "id": "65829926-5743-4206-b45e-0be85a5814cd",
   "metadata": {},
   "outputs": [],
   "source": []
  }
 ],
 "metadata": {
  "kernelspec": {
   "display_name": "Python 3 (ipykernel)",
   "language": "python",
   "name": "python3"
  },
  "language_info": {
   "codemirror_mode": {
    "name": "ipython",
    "version": 3
   },
   "file_extension": ".py",
   "mimetype": "text/x-python",
   "name": "python",
   "nbconvert_exporter": "python",
   "pygments_lexer": "ipython3",
   "version": "3.12.9"
  }
 },
 "nbformat": 4,
 "nbformat_minor": 5
}
