{
 "cells": [
  {
   "cell_type": "code",
   "execution_count": 1,
   "id": "9ae6b42f-4960-438b-a930-77229b78ac7f",
   "metadata": {},
   "outputs": [],
   "source": [
    "import numpy as np\n",
    "import pandas as pd\n",
    "import matplotlib.pyplot as plt"
   ]
  },
  {
   "cell_type": "code",
   "execution_count": 2,
   "id": "db3645a7-2ad9-41d5-86a4-debfe7a1c09f",
   "metadata": {},
   "outputs": [
    {
     "data": {
      "text/html": [
       "<div>\n",
       "<style scoped>\n",
       "    .dataframe tbody tr th:only-of-type {\n",
       "        vertical-align: middle;\n",
       "    }\n",
       "\n",
       "    .dataframe tbody tr th {\n",
       "        vertical-align: top;\n",
       "    }\n",
       "\n",
       "    .dataframe thead th {\n",
       "        text-align: right;\n",
       "    }\n",
       "</style>\n",
       "<table border=\"1\" class=\"dataframe\">\n",
       "  <thead>\n",
       "    <tr style=\"text-align: right;\">\n",
       "      <th></th>\n",
       "      <th>Unnamed: 0</th>\n",
       "      <th>frecuencia</th>\n",
       "      <th>aceleración</th>\n",
       "    </tr>\n",
       "  </thead>\n",
       "  <tbody>\n",
       "    <tr>\n",
       "      <th>0</th>\n",
       "      <td>0</td>\n",
       "      <td>0.195754</td>\n",
       "      <td>1.069922</td>\n",
       "    </tr>\n",
       "    <tr>\n",
       "      <th>1</th>\n",
       "      <td>1</td>\n",
       "      <td>0.205205</td>\n",
       "      <td>1.067387</td>\n",
       "    </tr>\n",
       "    <tr>\n",
       "      <th>2</th>\n",
       "      <td>2</td>\n",
       "      <td>0.442752</td>\n",
       "      <td>1.368138</td>\n",
       "    </tr>\n",
       "    <tr>\n",
       "      <th>3</th>\n",
       "      <td>3</td>\n",
       "      <td>0.250229</td>\n",
       "      <td>1.103748</td>\n",
       "    </tr>\n",
       "    <tr>\n",
       "      <th>4</th>\n",
       "      <td>4</td>\n",
       "      <td>0.026886</td>\n",
       "      <td>0.996347</td>\n",
       "    </tr>\n",
       "  </tbody>\n",
       "</table>\n",
       "</div>"
      ],
      "text/plain": [
       "   Unnamed: 0  frecuencia  aceleración\n",
       "0           0    0.195754     1.069922\n",
       "1           1    0.205205     1.067387\n",
       "2           2    0.442752     1.368138\n",
       "3           3    0.250229     1.103748\n",
       "4           4    0.026886     0.996347"
      ]
     },
     "execution_count": 2,
     "metadata": {},
     "output_type": "execute_result"
    }
   ],
   "source": [
    "data = pd.read_csv('DataSets/aceleracion.csv')\n",
    "data.head()"
   ]
  },
  {
   "cell_type": "code",
   "execution_count": 3,
   "id": "b2cc4267-77a7-4d0a-be67-dd6369609e3b",
   "metadata": {},
   "outputs": [],
   "source": [
    "x = np.array(data[['frecuencia']])\n",
    "y = np.array(data[['aceleración']])"
   ]
  },
  {
   "cell_type": "code",
   "execution_count": 4,
   "id": "a259f22a-28ec-4898-9b2d-735a769a7337",
   "metadata": {},
   "outputs": [],
   "source": [
    "from physics.Preprocess import PolyLinealizer"
   ]
  },
  {
   "cell_type": "code",
   "execution_count": 5,
   "id": "18736392-c2d1-405a-b6ef-f3f917f23297",
   "metadata": {},
   "outputs": [],
   "source": [
    "x_p = PolyLinealizer(degree = 2)"
   ]
  },
  {
   "cell_type": "code",
   "execution_count": 6,
   "id": "09df8a8d-dc24-4bf8-b417-12f16d3c0d64",
   "metadata": {},
   "outputs": [],
   "source": [
    "x_t = x_p.fit_transform(x)"
   ]
  },
  {
   "cell_type": "code",
   "execution_count": 7,
   "id": "d28e5f6d-3596-4100-ad0c-d4064dfed94c",
   "metadata": {},
   "outputs": [
    {
     "data": {
      "text/plain": [
       "array([[1.        , 0.19575386, 0.03831957],\n",
       "       [1.        , 0.20520452, 0.0421089 ],\n",
       "       [1.        , 0.44275188, 0.19602922],\n",
       "       ...,\n",
       "       [1.        , 0.06689762, 0.00447529],\n",
       "       [1.        , 0.49270569, 0.2427589 ],\n",
       "       [1.        , 0.19755983, 0.03902989]], shape=(500, 3))"
      ]
     },
     "execution_count": 7,
     "metadata": {},
     "output_type": "execute_result"
    }
   ],
   "source": [
    "x_t"
   ]
  },
  {
   "cell_type": "code",
   "execution_count": null,
   "id": "d368b930-ca98-4a95-8259-ebc96ed8116a",
   "metadata": {},
   "outputs": [],
   "source": []
  }
 ],
 "metadata": {
  "kernelspec": {
   "display_name": "Python 3 (ipykernel)",
   "language": "python",
   "name": "python3"
  },
  "language_info": {
   "codemirror_mode": {
    "name": "ipython",
    "version": 3
   },
   "file_extension": ".py",
   "mimetype": "text/x-python",
   "name": "python",
   "nbconvert_exporter": "python",
   "pygments_lexer": "ipython3",
   "version": "3.13.2"
  }
 },
 "nbformat": 4,
 "nbformat_minor": 5
}
