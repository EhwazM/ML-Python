{
 "cells": [
  {
   "cell_type": "code",
   "execution_count": 17,
   "id": "ecf0d770-0212-44a7-ac98-dd37c9eb1be6",
   "metadata": {},
   "outputs": [],
   "source": [
    "import pandas as pd\n",
    "from pandas import Series, DataFrame"
   ]
  },
  {
   "cell_type": "markdown",
   "id": "3bb23845-a4b9-4498-a70e-8639252e41df",
   "metadata": {},
   "source": [
    "### Series ###"
   ]
  },
  {
   "cell_type": "code",
   "execution_count": 2,
   "id": "7332a379-2ee3-45fb-9ffd-7ec42c80f643",
   "metadata": {},
   "outputs": [
    {
     "data": {
      "text/plain": [
       "0     Juan\n",
       "1    Pedro\n",
       "2     Luis\n",
       "dtype: object"
      ]
     },
     "execution_count": 2,
     "metadata": {},
     "output_type": "execute_result"
    }
   ],
   "source": [
    "datos = Series(['Juan', 'Pedro', 'Luis'])\n",
    "datos"
   ]
  },
  {
   "cell_type": "code",
   "execution_count": 3,
   "id": "fea6fd8a-378c-4fb2-9c15-aa5628df622a",
   "metadata": {},
   "outputs": [
    {
     "data": {
      "text/plain": [
       "a     Juan\n",
       "b    Pedro\n",
       "c     Luis\n",
       "dtype: object"
      ]
     },
     "execution_count": 3,
     "metadata": {},
     "output_type": "execute_result"
    }
   ],
   "source": [
    "datos1 = Series(['Juan', 'Pedro', 'Luis'], index = ['a', 'b', 'c'])\n",
    "datos1"
   ]
  },
  {
   "cell_type": "code",
   "execution_count": 4,
   "id": "917fdb28-dd9c-411a-ae79-b678f8c55623",
   "metadata": {},
   "outputs": [
    {
     "data": {
      "text/plain": [
       "array(['Juan', 'Pedro', 'Luis'], dtype=object)"
      ]
     },
     "execution_count": 4,
     "metadata": {},
     "output_type": "execute_result"
    }
   ],
   "source": [
    "datos1.values"
   ]
  },
  {
   "cell_type": "code",
   "execution_count": 5,
   "id": "cb2d403b-2d98-4951-9a4e-3aa6321f777e",
   "metadata": {},
   "outputs": [
    {
     "data": {
      "text/plain": [
       "'Juan'"
      ]
     },
     "execution_count": 5,
     "metadata": {},
     "output_type": "execute_result"
    }
   ],
   "source": [
    "datos1['a']"
   ]
  },
  {
   "cell_type": "code",
   "execution_count": 6,
   "id": "17e6672b-4284-4e92-9a37-f8498705239e",
   "metadata": {},
   "outputs": [
    {
     "data": {
      "text/plain": [
       "'Juan'"
      ]
     },
     "execution_count": 6,
     "metadata": {},
     "output_type": "execute_result"
    }
   ],
   "source": [
    "datos[0]"
   ]
  },
  {
   "cell_type": "code",
   "execution_count": 7,
   "id": "cbd35b11-5c05-4790-b905-8c62a500a7ae",
   "metadata": {},
   "outputs": [
    {
     "data": {
      "text/plain": [
       "a     Juan\n",
       "b    Pedro\n",
       "c     Luis\n",
       "d      Ana\n",
       "dtype: object"
      ]
     },
     "execution_count": 7,
     "metadata": {},
     "output_type": "execute_result"
    }
   ],
   "source": [
    "datos1['d'] = 'Ana'\n",
    "datos1"
   ]
  },
  {
   "cell_type": "code",
   "execution_count": 9,
   "id": "f6c3a45d-3450-4203-b4ac-315c41287fc5",
   "metadata": {},
   "outputs": [
    {
     "data": {
      "text/plain": [
       "{'Pedro': 23, 'Juan': 31, 'María': 18}"
      ]
     },
     "execution_count": 9,
     "metadata": {},
     "output_type": "execute_result"
    }
   ],
   "source": [
    "sData = {'Pedro' : 23,\n",
    "         'Juan' : 31,\n",
    "         'María' : 18}\n",
    "sData"
   ]
  },
  {
   "cell_type": "code",
   "execution_count": 11,
   "id": "986e5957-fc5c-4ef5-a7c0-9aa2c871ce81",
   "metadata": {},
   "outputs": [
    {
     "data": {
      "text/plain": [
       "Pedro    23\n",
       "Juan     31\n",
       "María    18\n",
       "dtype: int64"
      ]
     },
     "execution_count": 11,
     "metadata": {},
     "output_type": "execute_result"
    }
   ],
   "source": [
    "data = Series(sData)\n",
    "data"
   ]
  },
  {
   "cell_type": "code",
   "execution_count": 15,
   "id": "c6d2304c-fd7c-450f-b58a-124e00f4c86a",
   "metadata": {},
   "outputs": [
    {
     "data": {
      "text/plain": [
       "Index(['Pedro', 'Juan', 'María'], dtype='object')"
      ]
     },
     "execution_count": 15,
     "metadata": {},
     "output_type": "execute_result"
    }
   ],
   "source": [
    "data.index"
   ]
  },
  {
   "cell_type": "code",
   "execution_count": 18,
   "id": "63768abb-15df-416b-99ac-fc84ddf47fd1",
   "metadata": {},
   "outputs": [
    {
     "data": {
      "text/plain": [
       "array([23, 31, 18])"
      ]
     },
     "execution_count": 18,
     "metadata": {},
     "output_type": "execute_result"
    }
   ],
   "source": [
    "data.values"
   ]
  },
  {
   "cell_type": "markdown",
   "id": "6419f866-7942-4d81-b46e-035844dcd8bd",
   "metadata": {},
   "source": [
    "### Data Frame ###"
   ]
  },
  {
   "cell_type": "code",
   "execution_count": 20,
   "id": "34f44bbb-34c8-432d-8f16-8daa26ff0308",
   "metadata": {},
   "outputs": [
    {
     "data": {
      "text/plain": [
       "{'Departamento': ['Atlántico', 'Bolívar', 'Sucre'],\n",
       " 'Año': [2000, 2010, 2005],\n",
       " 'Población': [1.5, 3.0, 1.0]}"
      ]
     },
     "execution_count": 20,
     "metadata": {},
     "output_type": "execute_result"
    }
   ],
   "source": [
    "dicc = {'Departamento' : ['Atlántico', 'Bolívar', 'Sucre'],\n",
    "        'Año' : [2000, 2010, 2005],\n",
    "        'Población' : [1.5, 3.0, 1.0]}\n",
    "dicc"
   ]
  },
  {
   "cell_type": "code",
   "execution_count": 22,
   "id": "13bc472f-eb51-477c-b98b-d6f29d5abe92",
   "metadata": {},
   "outputs": [
    {
     "data": {
      "text/html": [
       "<div>\n",
       "<style scoped>\n",
       "    .dataframe tbody tr th:only-of-type {\n",
       "        vertical-align: middle;\n",
       "    }\n",
       "\n",
       "    .dataframe tbody tr th {\n",
       "        vertical-align: top;\n",
       "    }\n",
       "\n",
       "    .dataframe thead th {\n",
       "        text-align: right;\n",
       "    }\n",
       "</style>\n",
       "<table border=\"1\" class=\"dataframe\">\n",
       "  <thead>\n",
       "    <tr style=\"text-align: right;\">\n",
       "      <th></th>\n",
       "      <th>Departamento</th>\n",
       "      <th>Año</th>\n",
       "      <th>Población</th>\n",
       "    </tr>\n",
       "  </thead>\n",
       "  <tbody>\n",
       "    <tr>\n",
       "      <th>0</th>\n",
       "      <td>Atlántico</td>\n",
       "      <td>2000</td>\n",
       "      <td>1.5</td>\n",
       "    </tr>\n",
       "    <tr>\n",
       "      <th>1</th>\n",
       "      <td>Bolívar</td>\n",
       "      <td>2010</td>\n",
       "      <td>3.0</td>\n",
       "    </tr>\n",
       "    <tr>\n",
       "      <th>2</th>\n",
       "      <td>Sucre</td>\n",
       "      <td>2005</td>\n",
       "      <td>1.0</td>\n",
       "    </tr>\n",
       "  </tbody>\n",
       "</table>\n",
       "</div>"
      ],
      "text/plain": [
       "  Departamento   Año  Población\n",
       "0    Atlántico  2000        1.5\n",
       "1      Bolívar  2010        3.0\n",
       "2        Sucre  2005        1.0"
      ]
     },
     "execution_count": 22,
     "metadata": {},
     "output_type": "execute_result"
    }
   ],
   "source": [
    "df = DataFrame(dicc)\n",
    "df"
   ]
  },
  {
   "cell_type": "code",
   "execution_count": 24,
   "id": "557c091a-2d5d-42b8-b8e5-83243c1a13cc",
   "metadata": {},
   "outputs": [
    {
     "data": {
      "text/html": [
       "<div>\n",
       "<style scoped>\n",
       "    .dataframe tbody tr th:only-of-type {\n",
       "        vertical-align: middle;\n",
       "    }\n",
       "\n",
       "    .dataframe tbody tr th {\n",
       "        vertical-align: top;\n",
       "    }\n",
       "\n",
       "    .dataframe thead th {\n",
       "        text-align: right;\n",
       "    }\n",
       "</style>\n",
       "<table border=\"1\" class=\"dataframe\">\n",
       "  <thead>\n",
       "    <tr style=\"text-align: right;\">\n",
       "      <th></th>\n",
       "      <th>Departamento</th>\n",
       "      <th>Año</th>\n",
       "      <th>Población</th>\n",
       "      <th>area</th>\n",
       "    </tr>\n",
       "  </thead>\n",
       "  <tbody>\n",
       "    <tr>\n",
       "      <th>0</th>\n",
       "      <td>Atlántico</td>\n",
       "      <td>2000</td>\n",
       "      <td>1.5</td>\n",
       "      <td>1200</td>\n",
       "    </tr>\n",
       "    <tr>\n",
       "      <th>1</th>\n",
       "      <td>Bolívar</td>\n",
       "      <td>2010</td>\n",
       "      <td>3.0</td>\n",
       "      <td>1100</td>\n",
       "    </tr>\n",
       "    <tr>\n",
       "      <th>2</th>\n",
       "      <td>Sucre</td>\n",
       "      <td>2005</td>\n",
       "      <td>1.0</td>\n",
       "      <td>1000</td>\n",
       "    </tr>\n",
       "  </tbody>\n",
       "</table>\n",
       "</div>"
      ],
      "text/plain": [
       "  Departamento   Año  Población  area\n",
       "0    Atlántico  2000        1.5  1200\n",
       "1      Bolívar  2010        3.0  1100\n",
       "2        Sucre  2005        1.0  1000"
      ]
     },
     "execution_count": 24,
     "metadata": {},
     "output_type": "execute_result"
    }
   ],
   "source": [
    "df['area'] = [1200, 1100, 1000]\n",
    "df"
   ]
  },
  {
   "cell_type": "code",
   "execution_count": 25,
   "id": "5a7a42e5-1dbb-461b-8025-b508d25c7de5",
   "metadata": {},
   "outputs": [
    {
     "data": {
      "text/html": [
       "<div>\n",
       "<style scoped>\n",
       "    .dataframe tbody tr th:only-of-type {\n",
       "        vertical-align: middle;\n",
       "    }\n",
       "\n",
       "    .dataframe tbody tr th {\n",
       "        vertical-align: top;\n",
       "    }\n",
       "\n",
       "    .dataframe thead th {\n",
       "        text-align: right;\n",
       "    }\n",
       "</style>\n",
       "<table border=\"1\" class=\"dataframe\">\n",
       "  <thead>\n",
       "    <tr style=\"text-align: right;\">\n",
       "      <th></th>\n",
       "      <th>Departamento</th>\n",
       "      <th>Año</th>\n",
       "      <th>Población</th>\n",
       "    </tr>\n",
       "  </thead>\n",
       "  <tbody>\n",
       "    <tr>\n",
       "      <th>0</th>\n",
       "      <td>Atlántico</td>\n",
       "      <td>2000</td>\n",
       "      <td>1.5</td>\n",
       "    </tr>\n",
       "    <tr>\n",
       "      <th>1</th>\n",
       "      <td>Bolívar</td>\n",
       "      <td>2010</td>\n",
       "      <td>3.0</td>\n",
       "    </tr>\n",
       "    <tr>\n",
       "      <th>2</th>\n",
       "      <td>Sucre</td>\n",
       "      <td>2005</td>\n",
       "      <td>1.0</td>\n",
       "    </tr>\n",
       "  </tbody>\n",
       "</table>\n",
       "</div>"
      ],
      "text/plain": [
       "  Departamento   Año  Población\n",
       "0    Atlántico  2000        1.5\n",
       "1      Bolívar  2010        3.0\n",
       "2        Sucre  2005        1.0"
      ]
     },
     "execution_count": 25,
     "metadata": {},
     "output_type": "execute_result"
    }
   ],
   "source": [
    "del df['area']\n",
    "df"
   ]
  }
 ],
 "metadata": {
  "kernelspec": {
   "display_name": "Python 3 (ipykernel)",
   "language": "python",
   "name": "python3"
  },
  "language_info": {
   "codemirror_mode": {
    "name": "ipython",
    "version": 3
   },
   "file_extension": ".py",
   "mimetype": "text/x-python",
   "name": "python",
   "nbconvert_exporter": "python",
   "pygments_lexer": "ipython3",
   "version": "3.12.9"
  }
 },
 "nbformat": 4,
 "nbformat_minor": 5
}
