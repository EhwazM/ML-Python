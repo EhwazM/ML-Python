{
 "cells": [
  {
   "cell_type": "markdown",
   "id": "1eecde09-975c-4896-a6e3-90aecc2eae44",
   "metadata": {},
   "source": [
    "## Ecuación normal ##"
   ]
  },
  {
   "cell_type": "code",
   "execution_count": 1,
   "id": "ed12851f-6a38-40ab-a3a1-84fc0b9594b9",
   "metadata": {},
   "outputs": [],
   "source": [
    "import numpy as np\n",
    "import pandas as pd\n",
    "import matplotlib.pyplot as plt\n",
    "import seaborn as sns\n",
    "from sklearn.model_selection import train_test_split\n",
    "# from sklearn.linear_model import LinearRegression\n",
    "# from sklearn.metrics import r2_score, mean_squared_error, mean_absolute_percentage_error\n",
    "from physics.RegressionModel import LinearRegression"
   ]
  },
  {
   "cell_type": "code",
   "execution_count": 2,
   "id": "cd758c1e-f3b4-43c5-bf69-0b4e5c5d6f99",
   "metadata": {},
   "outputs": [
    {
     "data": {
      "text/html": [
       "<div>\n",
       "<style scoped>\n",
       "    .dataframe tbody tr th:only-of-type {\n",
       "        vertical-align: middle;\n",
       "    }\n",
       "\n",
       "    .dataframe tbody tr th {\n",
       "        vertical-align: top;\n",
       "    }\n",
       "\n",
       "    .dataframe thead th {\n",
       "        text-align: right;\n",
       "    }\n",
       "</style>\n",
       "<table border=\"1\" class=\"dataframe\">\n",
       "  <thead>\n",
       "    <tr style=\"text-align: right;\">\n",
       "      <th></th>\n",
       "      <th>t</th>\n",
       "      <th>v</th>\n",
       "    </tr>\n",
       "  </thead>\n",
       "  <tbody>\n",
       "    <tr>\n",
       "      <th>0</th>\n",
       "      <td>0.898853</td>\n",
       "      <td>6.531912</td>\n",
       "    </tr>\n",
       "    <tr>\n",
       "      <th>1</th>\n",
       "      <td>1.159800</td>\n",
       "      <td>8.078056</td>\n",
       "    </tr>\n",
       "    <tr>\n",
       "      <th>2</th>\n",
       "      <td>1.552927</td>\n",
       "      <td>10.420049</td>\n",
       "    </tr>\n",
       "    <tr>\n",
       "      <th>3</th>\n",
       "      <td>1.661786</td>\n",
       "      <td>8.943986</td>\n",
       "    </tr>\n",
       "    <tr>\n",
       "      <th>4</th>\n",
       "      <td>1.293464</td>\n",
       "      <td>7.968670</td>\n",
       "    </tr>\n",
       "  </tbody>\n",
       "</table>\n",
       "</div>"
      ],
      "text/plain": [
       "          t          v\n",
       "0  0.898853   6.531912\n",
       "1  1.159800   8.078056\n",
       "2  1.552927  10.420049\n",
       "3  1.661786   8.943986\n",
       "4  1.293464   7.968670"
      ]
     },
     "execution_count": 2,
     "metadata": {},
     "output_type": "execute_result"
    }
   ],
   "source": [
    "data = pd.read_csv('DataSets/velocidad.csv', index_col = 0)\n",
    "data.head()"
   ]
  },
  {
   "cell_type": "code",
   "execution_count": 3,
   "id": "b1652951-7f51-4cb6-9531-c0e6d653792f",
   "metadata": {},
   "outputs": [
    {
     "data": {
      "image/png": "[encoded data removed]",
      "text/plain": [
       "<Figure size 600x370 with 1 Axes>"
      ]
     },
     "metadata": {},
     "output_type": "display_data"
    }
   ],
   "source": [
    "fig, ax = plt.subplots(figsize = (6, 3.7), layout = 'constrained')\n",
    "ax.scatter(data['t'], data['v'])\n",
    "ax.set_title('Velocidad vs. Tiempo')\n",
    "ax.set_xlabel('t')\n",
    "ax.set_ylabel('v')\n",
    "plt.show()"
   ]
  },
  {
   "cell_type": "code",
   "execution_count": 3,
   "id": "e077f782-d2ca-432a-b83a-767f823dba62",
   "metadata": {},
   "outputs": [],
   "source": [
    "x = ['t']\n",
    "x = np.array(data[x])\n",
    "y = ['v']\n",
    "y = np.array(data[y])"
   ]
  },
  {
   "cell_type": "code",
   "execution_count": 4,
   "id": "977c2ec8-5cde-4fe9-a1ad-269791850c96",
   "metadata": {},
   "outputs": [],
   "source": [
    "x_train, x_test, y_train, y_test = train_test_split(x, y, test_size = 0.2)"
   ]
  },
  {
   "cell_type": "code",
   "execution_count": 6,
   "id": "2d10d014-b078-4b95-8d1a-8878d2ec776b",
   "metadata": {},
   "outputs": [],
   "source": [
    "lr = LinearRegression()"
   ]
  },
  {
   "cell_type": "code",
   "execution_count": 7,
   "id": "69432fa2-fbde-4e7a-a693-b64e262bf501",
   "metadata": {},
   "outputs": [],
   "source": [
    "lr.fit(x_train, y_train)"
   ]
  },
  {
   "cell_type": "code",
   "execution_count": 8,
   "id": "fc1c7c51-3c65-47d8-88fa-83851f012165",
   "metadata": {},
   "outputs": [
    {
     "ename": "AttributeError",
     "evalue": "'LinearRegression' object has no attribute 'intercept_'",
     "output_type": "error",
     "traceback": [
      "\u001b[0;31m---------------------------------------------------------------------------\u001b[0m",
      "\u001b[0;31mAttributeError\u001b[0m                            Traceback (most recent call last)",
      "Cell \u001b[0;32mIn[8], line 1\u001b[0m\n\u001b[0;32m----> 1\u001b[0m \u001b[38;5;28mprint\u001b[39m(\u001b[38;5;124mf\u001b[39m\u001b[38;5;124m'\u001b[39m\u001b[38;5;124mEl Bias es: \u001b[39m\u001b[38;5;132;01m{\u001b[39;00m\u001b[38;5;28mfloat\u001b[39m(lr\u001b[38;5;241m.\u001b[39mintercept_)\u001b[38;5;132;01m}\u001b[39;00m\u001b[38;5;124m, mientras que el peso de t es: \u001b[39m\u001b[38;5;132;01m{\u001b[39;00m\u001b[38;5;28mfloat\u001b[39m(lr\u001b[38;5;241m.\u001b[39mcoef_)\u001b[38;5;132;01m}\u001b[39;00m\u001b[38;5;124m'\u001b[39m)\n",
      "\u001b[0;31mAttributeError\u001b[0m: 'LinearRegression' object has no attribute 'intercept_'"
     ]
    }
   ],
   "source": [
    "print(f'El Bias es: {float(lr.intercept_)}, mientras que el peso de t es: {float(lr.coef_)}')"
   ]
  },
  {
   "cell_type": "markdown",
   "id": "d63b7642-83ea-4c56-a314-a39e6e37c010",
   "metadata": {},
   "source": [
    "$$ y = \\theta x$$\n",
    "$$ v =  (3.9697816798264642) + (3.0441364371068698)t$$"
   ]
  },
  {
   "cell_type": "code",
   "execution_count": null,
   "id": "9327d1ee-1f95-4ced-bf0a-4a80f99bbca5",
   "metadata": {},
   "outputs": [],
   "source": [
    "y_pred = lr.predict(x_test)\n",
    "y_pred"
   ]
  },
  {
   "cell_type": "code",
   "execution_count": null,
   "id": "15909e76-0293-4e6e-90e7-5262f08b3134",
   "metadata": {},
   "outputs": [],
   "source": [
    "plt.scatter(x_test, y_test)\n",
    "plt.plot(x_test, y_pred, color = 'red', linestyle = '--')\n",
    "\n",
    "plt.grid()\n",
    "plt.show()"
   ]
  },
  {
   "cell_type": "code",
   "execution_count": null,
   "id": "af079b0e-807c-4616-8841-ca0102274a15",
   "metadata": {},
   "outputs": [],
   "source": [
    "x_new = np.array([[0.0], [2.0]])\n",
    "y_pred_new = lr.predict(x_new)"
   ]
  },
  {
   "cell_type": "code",
   "execution_count": null,
   "id": "ec8a0640-e96c-4474-998e-339746ab3fcb",
   "metadata": {},
   "outputs": [],
   "source": [
    "plt.scatter(x, y)\n",
    "plt.plot(x_new, y_pred_new, color = 'red', linestyle = '--')\n",
    "\n",
    "plt.grid()\n",
    "plt.show()"
   ]
  },
  {
   "cell_type": "code",
   "execution_count": null,
   "id": "014ac00f-59ab-4272-982a-7f6ca9cc2bfc",
   "metadata": {},
   "outputs": [],
   "source": [
    "r2_score(y_test, y_pred)"
   ]
  },
  {
   "cell_type": "code",
   "execution_count": null,
   "id": "a556f315-f7cb-460d-b209-0c789f8dfce4",
   "metadata": {},
   "outputs": [],
   "source": [
    "mean_squared_error(y_test, y_pred)"
   ]
  },
  {
   "cell_type": "code",
   "execution_count": null,
   "id": "4ee0eda1-0b0e-45bf-9606-00ae23e6c736",
   "metadata": {},
   "outputs": [],
   "source": [
    "mean_absolute_percentage_error(y_test, y_pred)"
   ]
  },
  {
   "cell_type": "code",
   "execution_count": null,
   "id": "39a59f5f-ee80-4613-9ea1-25d978ea2985",
   "metadata": {},
   "outputs": [],
   "source": [
    "n = 100\n",
    "x_b = np.c_[np.ones((n,1)), x]\n",
    "x_b.shape"
   ]
  },
  {
   "cell_type": "code",
   "execution_count": null,
   "id": "5bfb3102-49c7-47a6-a3df-77c11fc34ac4",
   "metadata": {},
   "outputs": [],
   "source": [
    "theta = np.linalg.pinv(x_b.T.dot(x_b).dot(x_b.T).dot(y))\n",
    "theta"
   ]
  },
  {
   "cell_type": "code",
   "execution_count": 5,
   "id": "9f9e4060-3c1a-4636-8bd7-febbdfd18978",
   "metadata": {},
   "outputs": [],
   "source": [
    "lin = LinearRegression()"
   ]
  },
  {
   "cell_type": "code",
   "execution_count": 6,
   "id": "f44d2acf-457d-4149-8e61-48f0570d5623",
   "metadata": {},
   "outputs": [],
   "source": [
    "lin.fit(x_train, y_train)"
   ]
  },
  {
   "cell_type": "code",
   "execution_count": 7,
   "id": "1dcc3815-a0d5-4c6f-a214-302c64edb373",
   "metadata": {},
   "outputs": [
    {
     "name": "stdout",
     "output_type": "stream",
     "text": [
      "El Bias es: 3.996201188320002, mientras que el peso de t es: 2.9969443949518135\n"
     ]
    },
    {
     "name": "stderr",
     "output_type": "stream",
     "text": [
      "/tmp/ipykernel_8596/4120439903.py:1: DeprecationWarning: Conversion of an array with ndim > 0 to a scalar is deprecated, and will error in future. Ensure you extract a single element from your array before performing this operation. (Deprecated NumPy 1.25.)\n",
      "  print(f'El Bias es: {float(lin.intercept)}, mientras que el peso de t es: {float(lin.coef)}')\n"
     ]
    }
   ],
   "source": [
    "print(f'El Bias es: {float(lin.intercept)}, mientras que el peso de t es: {float(lin.coef)}')"
   ]
  }
 ],
 "metadata": {
  "kernelspec": {
   "display_name": "Python 3 (ipykernel)",
   "language": "python",
   "name": "python3"
  },
  "language_info": {
   "codemirror_mode": {
    "name": "ipython",
    "version": 3
   },
   "file_extension": ".py",
   "mimetype": "text/x-python",
   "name": "python",
   "nbconvert_exporter": "python",
   "pygments_lexer": "ipython3",
   "version": "3.13.2"
  }
 },
 "nbformat": 4,
 "nbformat_minor": 5
}
